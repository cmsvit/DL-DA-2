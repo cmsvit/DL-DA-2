{
 "cells": [
  {
   "cell_type": "code",
   "execution_count": 1,
   "id": "df3aa287",
   "metadata": {
    "execution": {
     "iopub.execute_input": "2023-02-26T15:11:44.499299Z",
     "iopub.status.busy": "2023-02-26T15:11:44.498201Z",
     "iopub.status.idle": "2023-02-26T15:11:44.509250Z",
     "shell.execute_reply": "2023-02-26T15:11:44.508423Z"
    },
    "papermill": {
     "duration": 0.020032,
     "end_time": "2023-02-26T15:11:44.511278",
     "exception": false,
     "start_time": "2023-02-26T15:11:44.491246",
     "status": "completed"
    },
    "tags": []
   },
   "outputs": [],
   "source": [
    "import pandas as pd\n",
    "from PIL import Image\n",
    "import numpy as np"
   ]
  },
  {
   "cell_type": "code",
   "execution_count": 2,
   "id": "22393847",
   "metadata": {
    "execution": {
     "iopub.execute_input": "2023-02-26T15:11:44.521465Z",
     "iopub.status.busy": "2023-02-26T15:11:44.520622Z",
     "iopub.status.idle": "2023-02-26T15:11:44.525350Z",
     "shell.execute_reply": "2023-02-26T15:11:44.524505Z"
    },
    "papermill": {
     "duration": 0.011568,
     "end_time": "2023-02-26T15:11:44.527248",
     "exception": false,
     "start_time": "2023-02-26T15:11:44.515680",
     "status": "completed"
    },
    "tags": []
   },
   "outputs": [],
   "source": [
    "train_csv_path = '/kaggle/input/rsna-breast-cancer-detection/train.csv'\n",
    "test_csv_path = '/kaggle/input/rsna-breast-cancer-detection/test.csv'\n",
    "\n",
    "dataset_images_path = '/kaggle/input/rsna-breast-cancer-256-pngs/'"
   ]
  },
  {
   "cell_type": "code",
   "execution_count": 3,
   "id": "2b463ee1",
   "metadata": {
    "execution": {
     "iopub.execute_input": "2023-02-26T15:11:44.537944Z",
     "iopub.status.busy": "2023-02-26T15:11:44.536515Z",
     "iopub.status.idle": "2023-02-26T15:11:45.601812Z",
     "shell.execute_reply": "2023-02-26T15:11:45.600871Z"
    },
    "papermill": {
     "duration": 1.072324,
     "end_time": "2023-02-26T15:11:45.603967",
     "exception": false,
     "start_time": "2023-02-26T15:11:44.531643",
     "status": "completed"
    },
    "tags": []
   },
   "outputs": [
    {
     "name": "stderr",
     "output_type": "stream",
     "text": [
      "/opt/conda/lib/python3.7/site-packages/ipykernel_launcher.py:14: SettingWithCopyWarning: \n",
      "A value is trying to be set on a copy of a slice from a DataFrame.\n",
      "Try using .loc[row_indexer,col_indexer] = value instead\n",
      "\n",
      "See the caveats in the documentation: https://pandas.pydata.org/pandas-docs/stable/user_guide/indexing.html#returning-a-view-versus-a-copy\n",
      "  \n",
      "/opt/conda/lib/python3.7/site-packages/ipykernel_launcher.py:17: SettingWithCopyWarning: \n",
      "A value is trying to be set on a copy of a slice from a DataFrame\n",
      "\n",
      "See the caveats in the documentation: https://pandas.pydata.org/pandas-docs/stable/user_guide/indexing.html#returning-a-view-versus-a-copy\n",
      "  app.launch_new_instance()\n"
     ]
    },
    {
     "data": {
      "text/html": [
       "<div>\n",
       "<style scoped>\n",
       "    .dataframe tbody tr th:only-of-type {\n",
       "        vertical-align: middle;\n",
       "    }\n",
       "\n",
       "    .dataframe tbody tr th {\n",
       "        vertical-align: top;\n",
       "    }\n",
       "\n",
       "    .dataframe thead th {\n",
       "        text-align: right;\n",
       "    }\n",
       "</style>\n",
       "<table border=\"1\" class=\"dataframe\">\n",
       "  <thead>\n",
       "    <tr style=\"text-align: right;\">\n",
       "      <th></th>\n",
       "      <th>patient_id</th>\n",
       "      <th>image_id</th>\n",
       "      <th>cancer</th>\n",
       "      <th>laterality</th>\n",
       "      <th>patient_id_str</th>\n",
       "      <th>image_id_str</th>\n",
       "      <th>image_name</th>\n",
       "    </tr>\n",
       "  </thead>\n",
       "  <tbody>\n",
       "    <tr>\n",
       "      <th>0</th>\n",
       "      <td>10130</td>\n",
       "      <td>388811999</td>\n",
       "      <td>1</td>\n",
       "      <td>L</td>\n",
       "      <td>10130</td>\n",
       "      <td>388811999</td>\n",
       "      <td>10130_388811999.png</td>\n",
       "    </tr>\n",
       "    <tr>\n",
       "      <th>1</th>\n",
       "      <td>10130</td>\n",
       "      <td>613462606</td>\n",
       "      <td>1</td>\n",
       "      <td>L</td>\n",
       "      <td>10130</td>\n",
       "      <td>613462606</td>\n",
       "      <td>10130_613462606.png</td>\n",
       "    </tr>\n",
       "    <tr>\n",
       "      <th>2</th>\n",
       "      <td>10130</td>\n",
       "      <td>1360338805</td>\n",
       "      <td>1</td>\n",
       "      <td>L</td>\n",
       "      <td>10130</td>\n",
       "      <td>1360338805</td>\n",
       "      <td>10130_1360338805.png</td>\n",
       "    </tr>\n",
       "    <tr>\n",
       "      <th>3</th>\n",
       "      <td>10130</td>\n",
       "      <td>1672636630</td>\n",
       "      <td>1</td>\n",
       "      <td>L</td>\n",
       "      <td>10130</td>\n",
       "      <td>1672636630</td>\n",
       "      <td>10130_1672636630.png</td>\n",
       "    </tr>\n",
       "    <tr>\n",
       "      <th>4</th>\n",
       "      <td>10226</td>\n",
       "      <td>461614796</td>\n",
       "      <td>1</td>\n",
       "      <td>L</td>\n",
       "      <td>10226</td>\n",
       "      <td>461614796</td>\n",
       "      <td>10226_461614796.png</td>\n",
       "    </tr>\n",
       "  </tbody>\n",
       "</table>\n",
       "</div>"
      ],
      "text/plain": [
       "   patient_id    image_id  cancer laterality patient_id_str image_id_str  \\\n",
       "0       10130   388811999       1          L          10130    388811999   \n",
       "1       10130   613462606       1          L          10130    613462606   \n",
       "2       10130  1360338805       1          L          10130   1360338805   \n",
       "3       10130  1672636630       1          L          10130   1672636630   \n",
       "4       10226   461614796       1          L          10226    461614796   \n",
       "\n",
       "             image_name  \n",
       "0   10130_388811999.png  \n",
       "1   10130_613462606.png  \n",
       "2  10130_1360338805.png  \n",
       "3  10130_1672636630.png  \n",
       "4   10226_461614796.png  "
      ]
     },
     "execution_count": 3,
     "metadata": {},
     "output_type": "execute_result"
    }
   ],
   "source": [
    "df = pd.read_csv(train_csv_path)\n",
    "df['patient_id_str'] = df['patient_id'].astype(str)\n",
    "df['image_id_str'] = df['image_id'].astype(str)\n",
    "\n",
    "cancer_df = df.loc[df['cancer'] == 1]\n",
    "\n",
    "no_cancer_df = df.loc[df['cancer'] == 0]\n",
    "no_cancer_df = no_cancer_df.iloc[:len(cancer_df)]\n",
    "\n",
    "df = pd.concat([cancer_df, no_cancer_df], ignore_index = True)\n",
    "df.reset_index()\n",
    "\n",
    "train_df = df[['patient_id', 'image_id', 'cancer', 'laterality', 'patient_id_str', 'image_id_str']]\n",
    "train_df['image_name'] = ''\n",
    "\n",
    "for i in range(len(train_df)):\n",
    "    train_df['image_name'][i] = train_df['patient_id_str'][i] + '_'+ train_df['image_id_str'][i] + '.png'\n",
    "\n",
    "train_df.head()"
   ]
  },
  {
   "cell_type": "code",
   "execution_count": 4,
   "id": "3dd0cd8a",
   "metadata": {
    "execution": {
     "iopub.execute_input": "2023-02-26T15:11:45.615222Z",
     "iopub.status.busy": "2023-02-26T15:11:45.614867Z",
     "iopub.status.idle": "2023-02-26T15:12:02.865545Z",
     "shell.execute_reply": "2023-02-26T15:12:02.864317Z"
    },
    "papermill": {
     "duration": 17.258825,
     "end_time": "2023-02-26T15:12:02.867595",
     "exception": false,
     "start_time": "2023-02-26T15:11:45.608770",
     "status": "completed"
    },
    "tags": []
   },
   "outputs": [
    {
     "name": "stderr",
     "output_type": "stream",
     "text": [
      "/opt/conda/lib/python3.7/site-packages/ipykernel_launcher.py:1: SettingWithCopyWarning: \n",
      "A value is trying to be set on a copy of a slice from a DataFrame.\n",
      "Try using .loc[row_indexer,col_indexer] = value instead\n",
      "\n",
      "See the caveats in the documentation: https://pandas.pydata.org/pandas-docs/stable/user_guide/indexing.html#returning-a-view-versus-a-copy\n",
      "  \"\"\"Entry point for launching an IPython kernel.\n",
      "/opt/conda/lib/python3.7/site-packages/ipykernel_launcher.py:4: SettingWithCopyWarning: \n",
      "A value is trying to be set on a copy of a slice from a DataFrame\n",
      "\n",
      "See the caveats in the documentation: https://pandas.pydata.org/pandas-docs/stable/user_guide/indexing.html#returning-a-view-versus-a-copy\n",
      "  after removing the cwd from sys.path.\n"
     ]
    },
    {
     "name": "stdout",
     "output_type": "stream",
     "text": [
      "   patient_id    image_id  cancer laterality patient_id_str image_id_str  \\\n",
      "0       10130   388811999       1          L          10130    388811999   \n",
      "1       10130   613462606       1          L          10130    613462606   \n",
      "2       10130  1360338805       1          L          10130   1360338805   \n",
      "3       10130  1672636630       1          L          10130   1672636630   \n",
      "4       10226   461614796       1          L          10226    461614796   \n",
      "\n",
      "             image_name                                          image_arr  \n",
      "0   10130_388811999.png  [[0, 0, 0, 0, 0, 0, 0, 0, 0, 0, 0, 0, 0, 0, 0,...  \n",
      "1   10130_613462606.png  [[0, 0, 0, 0, 0, 0, 0, 0, 0, 0, 0, 0, 0, 0, 0,...  \n",
      "2  10130_1360338805.png  [[0, 0, 0, 0, 0, 0, 0, 0, 0, 0, 0, 0, 0, 0, 0,...  \n",
      "3  10130_1672636630.png  [[0, 0, 0, 0, 0, 0, 0, 0, 0, 0, 0, 0, 0, 0, 0,...  \n",
      "4   10226_461614796.png  [[0, 0, 0, 0, 0, 0, 0, 0, 0, 0, 0, 0, 0, 0, 0,...  \n",
      "    patient_id    image_id  cancer laterality patient_id_str image_id_str  \\\n",
      "19       10668  1222121284       1          R          10668   1222121284   \n",
      "20       10668  1774497291       1          R          10668   1774497291   \n",
      "21       10940   420829283       1          R          10940    420829283   \n",
      "22       10940   888426604       1          R          10940    888426604   \n",
      "23        1109  1326732476       1          R           1109   1326732476   \n",
      "\n",
      "              image_name                                          image_arr  \n",
      "19  10668_1222121284.png  [[0, 0, 0, 0, 0, 0, 0, 0, 0, 0, 0, 0, 0, 0, 0,...  \n",
      "20  10668_1774497291.png  [[0, 0, 0, 0, 0, 0, 0, 0, 0, 0, 0, 0, 0, 0, 0,...  \n",
      "21   10940_420829283.png  [[0, 0, 0, 0, 0, 0, 0, 0, 0, 0, 0, 0, 0, 0, 0,...  \n",
      "22   10940_888426604.png  [[0, 0, 0, 0, 0, 0, 0, 0, 0, 0, 0, 0, 0, 0, 0,...  \n",
      "23   1109_1326732476.png  [[0, 0, 0, 0, 0, 0, 0, 0, 0, 0, 0, 0, 0, 0, 0,...  \n"
     ]
    }
   ],
   "source": [
    "train_df['image_arr'] = ''\n",
    "\n",
    "for i in range(len(train_df)):\n",
    "    train_df['image_arr'][i] = np.array(Image.open(dataset_images_path + train_df['image_name'][i]))\n",
    "    \n",
    "train_df_L = train_df[(train_df['laterality'] == 'L')]\n",
    "train_df_R = train_df[(train_df['laterality'] == 'R')]\n",
    "\n",
    "print(train_df_L.head())\n",
    "print(train_df_R.head())"
   ]
  },
  {
   "cell_type": "code",
   "execution_count": 5,
   "id": "eb469d98",
   "metadata": {
    "execution": {
     "iopub.execute_input": "2023-02-26T15:12:02.879023Z",
     "iopub.status.busy": "2023-02-26T15:12:02.878707Z",
     "iopub.status.idle": "2023-02-26T15:12:09.258771Z",
     "shell.execute_reply": "2023-02-26T15:12:09.257698Z"
    },
    "papermill": {
     "duration": 6.388579,
     "end_time": "2023-02-26T15:12:09.261288",
     "exception": false,
     "start_time": "2023-02-26T15:12:02.872709",
     "status": "completed"
    },
    "tags": []
   },
   "outputs": [],
   "source": [
    "from tensorflow.keras.utils import to_categorical\n",
    "\n",
    "XL = np.asarray(train_df_L['image_arr'].tolist())\n",
    "XL = XL/255.0\n",
    "YL = to_categorical(train_df_L['cancer'], num_classes=2)\n",
    "\n",
    "XR = np.asarray(train_df_R['image_arr'].tolist())\n",
    "XR = XR/255.0\n",
    "YR = to_categorical(train_df_R['cancer'], num_classes=2)"
   ]
  },
  {
   "cell_type": "code",
   "execution_count": 6,
   "id": "4b9cc7d2",
   "metadata": {
    "execution": {
     "iopub.execute_input": "2023-02-26T15:12:09.274523Z",
     "iopub.status.busy": "2023-02-26T15:12:09.272879Z",
     "iopub.status.idle": "2023-02-26T15:12:14.342080Z",
     "shell.execute_reply": "2023-02-26T15:12:14.341029Z"
    },
    "papermill": {
     "duration": 5.07828,
     "end_time": "2023-02-26T15:12:14.345153",
     "exception": false,
     "start_time": "2023-02-26T15:12:09.266873",
     "status": "completed"
    },
    "tags": []
   },
   "outputs": [
    {
     "name": "stdout",
     "output_type": "stream",
     "text": [
      "Model: \"sequential\"\n",
      "_________________________________________________________________\n",
      "Layer (type)                 Output Shape              Param #   \n",
      "=================================================================\n",
      "conv2d (Conv2D)              (None, 254, 254, 256)     2560      \n",
      "_________________________________________________________________\n",
      "max_pooling2d (MaxPooling2D) (None, 127, 127, 256)     0         \n",
      "_________________________________________________________________\n",
      "dropout (Dropout)            (None, 127, 127, 256)     0         \n",
      "_________________________________________________________________\n",
      "conv2d_1 (Conv2D)            (None, 125, 125, 128)     295040    \n",
      "_________________________________________________________________\n",
      "max_pooling2d_1 (MaxPooling2 (None, 62, 62, 128)       0         \n",
      "_________________________________________________________________\n",
      "dropout_1 (Dropout)          (None, 62, 62, 128)       0         \n",
      "_________________________________________________________________\n",
      "conv2d_2 (Conv2D)            (None, 60, 60, 64)        73792     \n",
      "_________________________________________________________________\n",
      "max_pooling2d_2 (MaxPooling2 (None, 30, 30, 64)        0         \n",
      "_________________________________________________________________\n",
      "dropout_2 (Dropout)          (None, 30, 30, 64)        0         \n",
      "_________________________________________________________________\n",
      "flatten (Flatten)            (None, 57600)             0         \n",
      "_________________________________________________________________\n",
      "dense (Dense)                (None, 32)                1843232   \n",
      "_________________________________________________________________\n",
      "dense_1 (Dense)              (None, 2)                 66        \n",
      "=================================================================\n",
      "Total params: 2,214,690\n",
      "Trainable params: 2,214,690\n",
      "Non-trainable params: 0\n",
      "_________________________________________________________________\n",
      "Model: \"sequential_1\"\n",
      "_________________________________________________________________\n",
      "Layer (type)                 Output Shape              Param #   \n",
      "=================================================================\n",
      "conv2d_3 (Conv2D)            (None, 254, 254, 256)     2560      \n",
      "_________________________________________________________________\n",
      "max_pooling2d_3 (MaxPooling2 (None, 127, 127, 256)     0         \n",
      "_________________________________________________________________\n",
      "dropout_3 (Dropout)          (None, 127, 127, 256)     0         \n",
      "_________________________________________________________________\n",
      "conv2d_4 (Conv2D)            (None, 125, 125, 128)     295040    \n",
      "_________________________________________________________________\n",
      "max_pooling2d_4 (MaxPooling2 (None, 62, 62, 128)       0         \n",
      "_________________________________________________________________\n",
      "dropout_4 (Dropout)          (None, 62, 62, 128)       0         \n",
      "_________________________________________________________________\n",
      "conv2d_5 (Conv2D)            (None, 60, 60, 64)        73792     \n",
      "_________________________________________________________________\n",
      "max_pooling2d_5 (MaxPooling2 (None, 30, 30, 64)        0         \n",
      "_________________________________________________________________\n",
      "dropout_5 (Dropout)          (None, 30, 30, 64)        0         \n",
      "_________________________________________________________________\n",
      "flatten_1 (Flatten)          (None, 57600)             0         \n",
      "_________________________________________________________________\n",
      "dense_2 (Dense)              (None, 32)                1843232   \n",
      "_________________________________________________________________\n",
      "dense_3 (Dense)              (None, 2)                 66        \n",
      "=================================================================\n",
      "Total params: 2,214,690\n",
      "Trainable params: 2,214,690\n",
      "Non-trainable params: 0\n",
      "_________________________________________________________________\n"
     ]
    }
   ],
   "source": [
    "from keras.models import Sequential\n",
    "from keras.layers import Dense, Conv2D, MaxPool2D, Flatten, Dropout\n",
    "from sklearn.model_selection import train_test_split\n",
    "\n",
    "x_train_L, x_test_L, y_train_L, y_test_L = train_test_split(XL, YL, test_size=0.20, random_state=42)\n",
    "x_train_R, x_test_R, y_train_R, y_test_R = train_test_split(XR, YR, test_size=0.20, random_state=42)\n",
    "\n",
    "model = Sequential()\n",
    "\n",
    "model.add(Conv2D(256, (3, 3), activation=\"relu\", input_shape=(256, 256, 1)))\n",
    "model.add(MaxPool2D(pool_size=(2, 2)))\n",
    "model.add(Dropout(0.3))\n",
    "\n",
    "model.add(Conv2D(128, (3, 3),activation='relu'))\n",
    "model.add(MaxPool2D(pool_size=(2, 2)))  \n",
    "model.add(Dropout(0.3))\n",
    "\n",
    "model.add(Conv2D(64, (3, 3),activation='relu'))\n",
    "model.add(MaxPool2D(pool_size=(2, 2)))  \n",
    "model.add(Dropout(0.3))\n",
    "model.add(Flatten())\n",
    "\n",
    "model.add(Dense(32))\n",
    "model.add(Dense(2, activation='softmax'))\n",
    "model.summary()\n",
    "\n",
    "model.compile(loss='categorical_crossentropy', optimizer='Adam', metrics=['acc'])\n",
    "\n",
    "#--------------------------------------------------------------------------------------\n",
    "\n",
    "model1 = Sequential()\n",
    "\n",
    "model1.add(Conv2D(256, (3, 3), activation=\"relu\", input_shape=(256, 256, 1)))\n",
    "model1.add(MaxPool2D(pool_size=(2, 2)))\n",
    "model1.add(Dropout(0.3))\n",
    "\n",
    "model1.add(Conv2D(128, (3, 3),activation='relu'))\n",
    "model1.add(MaxPool2D(pool_size=(2, 2)))  \n",
    "model1.add(Dropout(0.3))\n",
    "\n",
    "model1.add(Conv2D(64, (3, 3),activation='relu'))\n",
    "model1.add(MaxPool2D(pool_size=(2, 2)))  \n",
    "model1.add(Dropout(0.3))\n",
    "model1.add(Flatten())\n",
    "\n",
    "model1.add(Dense(32))\n",
    "model1.add(Dense(2, activation='softmax'))\n",
    "model1.summary()\n",
    "\n",
    "model1.compile(loss='categorical_crossentropy', optimizer='Adam', metrics=['acc'])"
   ]
  },
  {
   "cell_type": "code",
   "execution_count": 7,
   "id": "e7c3ccac",
   "metadata": {
    "execution": {
     "iopub.execute_input": "2023-02-26T15:12:14.357235Z",
     "iopub.status.busy": "2023-02-26T15:12:14.356949Z",
     "iopub.status.idle": "2023-02-26T15:12:14.362775Z",
     "shell.execute_reply": "2023-02-26T15:12:14.361690Z"
    },
    "papermill": {
     "duration": 0.01471,
     "end_time": "2023-02-26T15:12:14.365153",
     "exception": false,
     "start_time": "2023-02-26T15:12:14.350443",
     "status": "completed"
    },
    "tags": []
   },
   "outputs": [],
   "source": [
    "import tensorflow as tf\n",
    "\n",
    "batch_size = 16\n",
    "\n",
    "x_train_L = x_train_L.reshape(-1, 256, 256, 1)\n",
    "x_test_L = x_test_L.reshape(-1, 256, 256, 1)\n",
    "\n",
    "x_train_R = x_train_R.reshape(-1, 256, 256, 1)\n",
    "x_test_R = x_test_R.reshape(-1, 256, 256, 1)"
   ]
  },
  {
   "cell_type": "code",
   "execution_count": 8,
   "id": "29efa156",
   "metadata": {
    "execution": {
     "iopub.execute_input": "2023-02-26T15:12:14.376118Z",
     "iopub.status.busy": "2023-02-26T15:12:14.375847Z",
     "iopub.status.idle": "2023-02-26T15:21:37.473377Z",
     "shell.execute_reply": "2023-02-26T15:21:37.472279Z"
    },
    "papermill": {
     "duration": 563.105911,
     "end_time": "2023-02-26T15:21:37.476024",
     "exception": false,
     "start_time": "2023-02-26T15:12:14.370113",
     "status": "completed"
    },
    "tags": []
   },
   "outputs": [
    {
     "name": "stdout",
     "output_type": "stream",
     "text": [
      "Epoch 1/50\n",
      "58/58 - 24s - loss: 0.7219 - acc: 0.4968 - val_loss: 0.6879 - val_acc: 0.5776\n",
      "Epoch 2/50\n",
      "58/58 - 10s - loss: 0.6813 - acc: 0.5790 - val_loss: 0.6740 - val_acc: 0.5948\n",
      "Epoch 3/50\n",
      "58/58 - 10s - loss: 0.6637 - acc: 0.6126 - val_loss: 0.6683 - val_acc: 0.5991\n",
      "Epoch 4/50\n",
      "58/58 - 10s - loss: 0.6314 - acc: 0.6472 - val_loss: 0.6769 - val_acc: 0.5733\n",
      "Epoch 5/50\n",
      "58/58 - 10s - loss: 0.5944 - acc: 0.6710 - val_loss: 0.7428 - val_acc: 0.5043\n",
      "Epoch 6/50\n",
      "58/58 - 10s - loss: 0.5430 - acc: 0.7100 - val_loss: 0.7326 - val_acc: 0.5302\n",
      "Epoch 7/50\n",
      "58/58 - 10s - loss: 0.4880 - acc: 0.7219 - val_loss: 0.7586 - val_acc: 0.5129\n",
      "Epoch 8/50\n",
      "58/58 - 10s - loss: 0.4314 - acc: 0.7727 - val_loss: 0.9819 - val_acc: 0.5000\n",
      "Epoch 9/50\n",
      "58/58 - 10s - loss: 0.3798 - acc: 0.8041 - val_loss: 1.0280 - val_acc: 0.5043\n",
      "Epoch 10/50\n",
      "58/58 - 10s - loss: 0.3416 - acc: 0.8268 - val_loss: 1.0506 - val_acc: 0.5086\n",
      "Epoch 11/50\n",
      "58/58 - 10s - loss: 0.2974 - acc: 0.8485 - val_loss: 1.3116 - val_acc: 0.4957\n",
      "Epoch 12/50\n",
      "58/58 - 10s - loss: 0.2613 - acc: 0.8755 - val_loss: 1.3935 - val_acc: 0.5043\n",
      "Epoch 13/50\n",
      "58/58 - 10s - loss: 0.2338 - acc: 0.8896 - val_loss: 1.3669 - val_acc: 0.5431\n",
      "Epoch 14/50\n",
      "58/58 - 10s - loss: 0.2433 - acc: 0.8885 - val_loss: 1.7501 - val_acc: 0.5216\n",
      "Epoch 15/50\n",
      "58/58 - 10s - loss: 0.1897 - acc: 0.9123 - val_loss: 2.0689 - val_acc: 0.5388\n",
      "Epoch 16/50\n",
      "58/58 - 10s - loss: 0.1894 - acc: 0.9177 - val_loss: 2.1177 - val_acc: 0.5259\n",
      "Epoch 17/50\n",
      "58/58 - 10s - loss: 0.2134 - acc: 0.9058 - val_loss: 1.9292 - val_acc: 0.5129\n",
      "Epoch 18/50\n",
      "58/58 - 10s - loss: 0.1937 - acc: 0.9232 - val_loss: 1.8176 - val_acc: 0.5431\n",
      "Epoch 19/50\n",
      "58/58 - 10s - loss: 0.1649 - acc: 0.9307 - val_loss: 2.0657 - val_acc: 0.5517\n",
      "Epoch 20/50\n",
      "58/58 - 10s - loss: 0.1566 - acc: 0.9232 - val_loss: 1.9827 - val_acc: 0.5560\n",
      "Epoch 21/50\n",
      "58/58 - 10s - loss: 0.1358 - acc: 0.9448 - val_loss: 2.4370 - val_acc: 0.5690\n",
      "Epoch 22/50\n",
      "58/58 - 10s - loss: 0.1196 - acc: 0.9502 - val_loss: 2.7131 - val_acc: 0.5776\n",
      "Epoch 23/50\n",
      "58/58 - 10s - loss: 0.1358 - acc: 0.9448 - val_loss: 2.5436 - val_acc: 0.5690\n",
      "Epoch 24/50\n",
      "58/58 - 10s - loss: 0.1198 - acc: 0.9459 - val_loss: 2.7676 - val_acc: 0.5259\n",
      "Epoch 25/50\n",
      "58/58 - 10s - loss: 0.1088 - acc: 0.9556 - val_loss: 2.7277 - val_acc: 0.5517\n",
      "Epoch 26/50\n",
      "58/58 - 10s - loss: 0.1196 - acc: 0.9567 - val_loss: 3.1809 - val_acc: 0.5345\n",
      "Epoch 27/50\n",
      "58/58 - 10s - loss: 0.1104 - acc: 0.9545 - val_loss: 3.3558 - val_acc: 0.4957\n",
      "Epoch 28/50\n",
      "58/58 - 10s - loss: 0.1767 - acc: 0.9416 - val_loss: 2.1730 - val_acc: 0.5259\n",
      "Epoch 29/50\n",
      "58/58 - 10s - loss: 0.0838 - acc: 0.9665 - val_loss: 3.2868 - val_acc: 0.5388\n",
      "Epoch 30/50\n",
      "58/58 - 10s - loss: 0.0860 - acc: 0.9665 - val_loss: 3.5596 - val_acc: 0.5388\n",
      "Epoch 31/50\n",
      "58/58 - 10s - loss: 0.1016 - acc: 0.9719 - val_loss: 3.0790 - val_acc: 0.5647\n",
      "Epoch 32/50\n",
      "58/58 - 10s - loss: 0.0673 - acc: 0.9740 - val_loss: 3.7719 - val_acc: 0.5517\n",
      "Epoch 33/50\n",
      "58/58 - 10s - loss: 0.0975 - acc: 0.9632 - val_loss: 3.2182 - val_acc: 0.5647\n",
      "Epoch 34/50\n",
      "58/58 - 10s - loss: 0.0937 - acc: 0.9643 - val_loss: 3.1239 - val_acc: 0.5690\n",
      "Epoch 35/50\n",
      "58/58 - 10s - loss: 0.0918 - acc: 0.9610 - val_loss: 3.2457 - val_acc: 0.5560\n",
      "Epoch 36/50\n",
      "58/58 - 10s - loss: 0.0966 - acc: 0.9621 - val_loss: 3.3657 - val_acc: 0.5733\n",
      "Epoch 37/50\n",
      "58/58 - 10s - loss: 0.0896 - acc: 0.9740 - val_loss: 3.6077 - val_acc: 0.5431\n",
      "Epoch 38/50\n",
      "58/58 - 10s - loss: 0.0830 - acc: 0.9729 - val_loss: 3.0985 - val_acc: 0.5948\n",
      "Epoch 39/50\n",
      "58/58 - 10s - loss: 0.0758 - acc: 0.9794 - val_loss: 3.9579 - val_acc: 0.5517\n",
      "Epoch 40/50\n",
      "58/58 - 10s - loss: 0.0760 - acc: 0.9740 - val_loss: 3.6813 - val_acc: 0.5560\n",
      "Epoch 41/50\n",
      "58/58 - 10s - loss: 0.0280 - acc: 0.9935 - val_loss: 4.5984 - val_acc: 0.5517\n",
      "Epoch 42/50\n",
      "58/58 - 10s - loss: 0.0317 - acc: 0.9870 - val_loss: 4.9160 - val_acc: 0.5603\n",
      "Epoch 43/50\n",
      "58/58 - 10s - loss: 0.1044 - acc: 0.9719 - val_loss: 3.3761 - val_acc: 0.5388\n",
      "Epoch 44/50\n",
      "58/58 - 10s - loss: 0.0850 - acc: 0.9773 - val_loss: 3.6774 - val_acc: 0.5474\n",
      "Epoch 45/50\n",
      "58/58 - 10s - loss: 0.0596 - acc: 0.9816 - val_loss: 3.6579 - val_acc: 0.5345\n",
      "Epoch 46/50\n",
      "58/58 - 10s - loss: 0.0492 - acc: 0.9870 - val_loss: 4.5527 - val_acc: 0.5086\n",
      "Epoch 47/50\n",
      "58/58 - 10s - loss: 0.0783 - acc: 0.9794 - val_loss: 3.9575 - val_acc: 0.5302\n",
      "Epoch 48/50\n",
      "58/58 - 10s - loss: 0.0544 - acc: 0.9794 - val_loss: 3.4794 - val_acc: 0.5517\n",
      "Epoch 49/50\n",
      "58/58 - 10s - loss: 0.0796 - acc: 0.9784 - val_loss: 3.5373 - val_acc: 0.5474\n",
      "Epoch 50/50\n",
      "58/58 - 10s - loss: 0.0549 - acc: 0.9848 - val_loss: 4.3210 - val_acc: 0.5000\n"
     ]
    }
   ],
   "source": [
    "history_L = model.fit(x_train_L, y_train_L, batch_size=batch_size, epochs=50, validation_data=(x_test_L, y_test_L), verbose=2)"
   ]
  },
  {
   "cell_type": "code",
   "execution_count": 9,
   "id": "a2e678bc",
   "metadata": {
    "execution": {
     "iopub.execute_input": "2023-02-26T15:21:37.497212Z",
     "iopub.status.busy": "2023-02-26T15:21:37.496914Z",
     "iopub.status.idle": "2023-02-26T15:21:39.801199Z",
     "shell.execute_reply": "2023-02-26T15:21:39.800251Z"
    },
    "papermill": {
     "duration": 2.316892,
     "end_time": "2023-02-26T15:21:39.803197",
     "exception": false,
     "start_time": "2023-02-26T15:21:37.486305",
     "status": "completed"
    },
    "tags": []
   },
   "outputs": [
    {
     "name": "stdout",
     "output_type": "stream",
     "text": [
      "8/8 [==============================] - 2s 105ms/step - loss: 4.3210 - acc: 0.5000\n",
      "Left Test accuracy: 0.5\n"
     ]
    }
   ],
   "source": [
    "score_L = model.evaluate(x_test_L, y_test_L)\n",
    "print('Left Test accuracy:', score_L[1])"
   ]
  },
  {
   "cell_type": "code",
   "execution_count": 10,
   "id": "7d195268",
   "metadata": {
    "execution": {
     "iopub.execute_input": "2023-02-26T15:21:39.825755Z",
     "iopub.status.busy": "2023-02-26T15:21:39.825106Z",
     "iopub.status.idle": "2023-02-26T15:21:40.280969Z",
     "shell.execute_reply": "2023-02-26T15:21:40.280024Z"
    },
    "papermill": {
     "duration": 0.469144,
     "end_time": "2023-02-26T15:21:40.283013",
     "exception": false,
     "start_time": "2023-02-26T15:21:39.813869",
     "status": "completed"
    },
    "tags": []
   },
   "outputs": [
    {
     "data": {
      "image/png": "[encoded data removed]",
      "text/plain": [
       "<Figure size 432x288 with 1 Axes>"
      ]
     },
     "metadata": {
      "needs_background": "light"
     },
     "output_type": "display_data"
    },
    {
     "data": {
      "image/png": "[encoded data removed]",
      "text/plain": [
       "<Figure size 432x288 with 1 Axes>"
      ]
     },
     "metadata": {
      "needs_background": "light"
     },
     "output_type": "display_data"
    }
   ],
   "source": [
    "import matplotlib.pyplot as plt\n",
    "\n",
    "loss = history_L.history['loss']\n",
    "val_loss = history_L.history['val_loss']\n",
    "epochs = range(1, len(loss) + 1)\n",
    "plt.plot(epochs, loss, 'y', label='Training loss')\n",
    "plt.plot(epochs, val_loss, 'r', label='Validation loss')\n",
    "plt.title('Training and validation loss')\n",
    "plt.xlabel('Epochs')\n",
    "plt.ylabel('Loss')\n",
    "plt.legend()\n",
    "plt.show()\n",
    "\n",
    "\n",
    "acc = history_L.history['acc']\n",
    "val_acc = history_L.history['val_acc']\n",
    "plt.plot(epochs, acc, 'y', label='Training acc')\n",
    "plt.plot(epochs, val_acc, 'r', label='Validation acc')\n",
    "plt.title('Training and validation accuracy')\n",
    "plt.xlabel('Epochs')\n",
    "plt.ylabel('Accuracy')\n",
    "plt.legend()\n",
    "plt.show()"
   ]
  },
  {
   "cell_type": "code",
   "execution_count": 11,
   "id": "953bff88",
   "metadata": {
    "execution": {
     "iopub.execute_input": "2023-02-26T15:21:40.308422Z",
     "iopub.status.busy": "2023-02-26T15:21:40.306726Z",
     "iopub.status.idle": "2023-02-26T15:31:03.269045Z",
     "shell.execute_reply": "2023-02-26T15:31:03.267987Z"
    },
    "papermill": {
     "duration": 562.976797,
     "end_time": "2023-02-26T15:31:03.271544",
     "exception": false,
     "start_time": "2023-02-26T15:21:40.294747",
     "status": "completed"
    },
    "tags": []
   },
   "outputs": [
    {
     "name": "stdout",
     "output_type": "stream",
     "text": [
      "Epoch 1/50\n",
      "58/58 - 11s - loss: 0.7156 - acc: 0.4741 - val_loss: 0.6924 - val_acc: 0.4914\n",
      "Epoch 2/50\n",
      "58/58 - 10s - loss: 0.6916 - acc: 0.5647 - val_loss: 0.6880 - val_acc: 0.5733\n",
      "Epoch 3/50\n",
      "58/58 - 10s - loss: 0.6742 - acc: 0.6024 - val_loss: 0.6848 - val_acc: 0.5259\n",
      "Epoch 4/50\n",
      "58/58 - 10s - loss: 0.6442 - acc: 0.6336 - val_loss: 0.6983 - val_acc: 0.5733\n",
      "Epoch 5/50\n",
      "58/58 - 10s - loss: 0.6176 - acc: 0.6541 - val_loss: 0.7176 - val_acc: 0.5647\n",
      "Epoch 6/50\n",
      "58/58 - 10s - loss: 0.5632 - acc: 0.6864 - val_loss: 0.8395 - val_acc: 0.5560\n",
      "Epoch 7/50\n",
      "58/58 - 10s - loss: 0.5126 - acc: 0.7306 - val_loss: 0.9193 - val_acc: 0.5776\n",
      "Epoch 8/50\n",
      "58/58 - 10s - loss: 0.4543 - acc: 0.7737 - val_loss: 1.0517 - val_acc: 0.5345\n",
      "Epoch 9/50\n",
      "58/58 - 10s - loss: 0.3996 - acc: 0.7888 - val_loss: 1.0871 - val_acc: 0.5991\n",
      "Epoch 10/50\n",
      "58/58 - 10s - loss: 0.3921 - acc: 0.8103 - val_loss: 1.0238 - val_acc: 0.5474\n",
      "Epoch 11/50\n",
      "58/58 - 10s - loss: 0.3145 - acc: 0.8362 - val_loss: 1.2594 - val_acc: 0.5905\n",
      "Epoch 12/50\n",
      "58/58 - 10s - loss: 0.2726 - acc: 0.8653 - val_loss: 1.3547 - val_acc: 0.5905\n",
      "Epoch 13/50\n",
      "58/58 - 10s - loss: 0.2652 - acc: 0.8750 - val_loss: 1.3938 - val_acc: 0.5690\n",
      "Epoch 14/50\n",
      "58/58 - 10s - loss: 0.2227 - acc: 0.8987 - val_loss: 1.3821 - val_acc: 0.5948\n",
      "Epoch 15/50\n",
      "58/58 - 10s - loss: 0.2195 - acc: 0.8912 - val_loss: 1.6734 - val_acc: 0.5819\n",
      "Epoch 16/50\n",
      "58/58 - 10s - loss: 0.1898 - acc: 0.9095 - val_loss: 1.6592 - val_acc: 0.6034\n",
      "Epoch 17/50\n",
      "58/58 - 10s - loss: 0.1602 - acc: 0.9310 - val_loss: 2.1745 - val_acc: 0.5690\n",
      "Epoch 18/50\n",
      "58/58 - 10s - loss: 0.1633 - acc: 0.9235 - val_loss: 1.9278 - val_acc: 0.6034\n",
      "Epoch 19/50\n",
      "58/58 - 10s - loss: 0.1585 - acc: 0.9321 - val_loss: 1.9404 - val_acc: 0.5991\n",
      "Epoch 20/50\n",
      "58/58 - 10s - loss: 0.1702 - acc: 0.9343 - val_loss: 2.1540 - val_acc: 0.5776\n",
      "Epoch 21/50\n",
      "58/58 - 10s - loss: 0.1448 - acc: 0.9440 - val_loss: 1.9584 - val_acc: 0.5776\n",
      "Epoch 22/50\n",
      "58/58 - 10s - loss: 0.1474 - acc: 0.9440 - val_loss: 2.3153 - val_acc: 0.5647\n",
      "Epoch 23/50\n",
      "58/58 - 10s - loss: 0.1366 - acc: 0.9450 - val_loss: 2.2586 - val_acc: 0.5991\n",
      "Epoch 24/50\n",
      "58/58 - 10s - loss: 0.1194 - acc: 0.9526 - val_loss: 2.5862 - val_acc: 0.5905\n",
      "Epoch 25/50\n",
      "58/58 - 10s - loss: 0.0908 - acc: 0.9634 - val_loss: 2.7856 - val_acc: 0.5948\n",
      "Epoch 26/50\n",
      "58/58 - 10s - loss: 0.1150 - acc: 0.9580 - val_loss: 2.6338 - val_acc: 0.5733\n",
      "Epoch 27/50\n",
      "58/58 - 10s - loss: 0.1167 - acc: 0.9526 - val_loss: 2.3449 - val_acc: 0.5948\n",
      "Epoch 28/50\n",
      "58/58 - 10s - loss: 0.1300 - acc: 0.9580 - val_loss: 2.1104 - val_acc: 0.5991\n",
      "Epoch 29/50\n",
      "58/58 - 10s - loss: 0.1137 - acc: 0.9569 - val_loss: 2.4031 - val_acc: 0.5690\n",
      "Epoch 30/50\n",
      "58/58 - 10s - loss: 0.1156 - acc: 0.9580 - val_loss: 2.5102 - val_acc: 0.5776\n",
      "Epoch 31/50\n",
      "58/58 - 10s - loss: 0.0612 - acc: 0.9784 - val_loss: 3.3236 - val_acc: 0.5948\n",
      "Epoch 32/50\n",
      "58/58 - 10s - loss: 0.1028 - acc: 0.9655 - val_loss: 2.8085 - val_acc: 0.5905\n",
      "Epoch 33/50\n",
      "58/58 - 10s - loss: 0.0893 - acc: 0.9677 - val_loss: 2.7646 - val_acc: 0.5776\n",
      "Epoch 34/50\n",
      "58/58 - 10s - loss: 0.0659 - acc: 0.9763 - val_loss: 2.5998 - val_acc: 0.6078\n",
      "Epoch 35/50\n",
      "58/58 - 10s - loss: 0.0982 - acc: 0.9634 - val_loss: 2.7488 - val_acc: 0.5733\n",
      "Epoch 36/50\n",
      "58/58 - 10s - loss: 0.0905 - acc: 0.9688 - val_loss: 2.7668 - val_acc: 0.6164\n",
      "Epoch 37/50\n",
      "58/58 - 10s - loss: 0.0820 - acc: 0.9828 - val_loss: 3.0200 - val_acc: 0.6121\n",
      "Epoch 38/50\n",
      "58/58 - 10s - loss: 0.0566 - acc: 0.9774 - val_loss: 3.3405 - val_acc: 0.6250\n",
      "Epoch 39/50\n",
      "58/58 - 10s - loss: 0.0301 - acc: 0.9914 - val_loss: 4.1147 - val_acc: 0.6034\n",
      "Epoch 40/50\n",
      "58/58 - 10s - loss: 0.0309 - acc: 0.9881 - val_loss: 4.3199 - val_acc: 0.5819\n",
      "Epoch 41/50\n",
      "58/58 - 10s - loss: 0.0591 - acc: 0.9860 - val_loss: 4.4403 - val_acc: 0.5474\n",
      "Epoch 42/50\n",
      "58/58 - 10s - loss: 0.0899 - acc: 0.9774 - val_loss: 3.6093 - val_acc: 0.5991\n",
      "Epoch 43/50\n",
      "58/58 - 10s - loss: 0.0531 - acc: 0.9849 - val_loss: 3.4808 - val_acc: 0.5948\n",
      "Epoch 44/50\n",
      "58/58 - 10s - loss: 0.0381 - acc: 0.9871 - val_loss: 3.9518 - val_acc: 0.5948\n",
      "Epoch 45/50\n",
      "58/58 - 10s - loss: 0.0826 - acc: 0.9806 - val_loss: 3.2323 - val_acc: 0.5603\n",
      "Epoch 46/50\n",
      "58/58 - 10s - loss: 0.0658 - acc: 0.9838 - val_loss: 3.0532 - val_acc: 0.5776\n",
      "Epoch 47/50\n",
      "58/58 - 10s - loss: 0.0769 - acc: 0.9752 - val_loss: 2.7713 - val_acc: 0.5991\n",
      "Epoch 48/50\n",
      "58/58 - 10s - loss: 0.0411 - acc: 0.9871 - val_loss: 3.2814 - val_acc: 0.5819\n",
      "Epoch 49/50\n",
      "58/58 - 10s - loss: 0.0425 - acc: 0.9849 - val_loss: 3.5504 - val_acc: 0.5776\n",
      "Epoch 50/50\n",
      "58/58 - 10s - loss: 0.0152 - acc: 0.9957 - val_loss: 4.3347 - val_acc: 0.5948\n"
     ]
    }
   ],
   "source": [
    "history_R = model1.fit(x_train_R, y_train_R, batch_size=batch_size, epochs=50, validation_data=(x_test_R, y_test_R), verbose=2)"
   ]
  },
  {
   "cell_type": "code",
   "execution_count": 12,
   "id": "465c12fb",
   "metadata": {
    "execution": {
     "iopub.execute_input": "2023-02-26T15:31:03.304888Z",
     "iopub.status.busy": "2023-02-26T15:31:03.303889Z",
     "iopub.status.idle": "2023-02-26T15:31:04.377527Z",
     "shell.execute_reply": "2023-02-26T15:31:04.376197Z"
    },
    "papermill": {
     "duration": 1.092062,
     "end_time": "2023-02-26T15:31:04.379666",
     "exception": false,
     "start_time": "2023-02-26T15:31:03.287604",
     "status": "completed"
    },
    "tags": []
   },
   "outputs": [
    {
     "name": "stdout",
     "output_type": "stream",
     "text": [
      "8/8 [==============================] - 1s 105ms/step - loss: 4.3347 - acc: 0.5948\n",
      "Right Test accuracy: 0.5948275923728943\n"
     ]
    }
   ],
   "source": [
    "score_R = model1.evaluate(x_test_R, y_test_R)\n",
    "print('Right Test accuracy:', score_R[1])"
   ]
  },
  {
   "cell_type": "code",
   "execution_count": 13,
   "id": "457c1af6",
   "metadata": {
    "execution": {
     "iopub.execute_input": "2023-02-26T15:31:04.413183Z",
     "iopub.status.busy": "2023-02-26T15:31:04.412885Z",
     "iopub.status.idle": "2023-02-26T15:31:04.849302Z",
     "shell.execute_reply": "2023-02-26T15:31:04.848434Z"
    },
    "papermill": {
     "duration": 0.455632,
     "end_time": "2023-02-26T15:31:04.851376",
     "exception": false,
     "start_time": "2023-02-26T15:31:04.395744",
     "status": "completed"
    },
    "tags": []
   },
   "outputs": [
    {
     "data": {
      "image/png": "[encoded data removed]",
      "text/plain": [
       "<Figure size 432x288 with 1 Axes>"
      ]
     },
     "metadata": {
      "needs_background": "light"
     },
     "output_type": "display_data"
    },
    {
     "data": {
      "image/png": "[encoded data removed]",
      "text/plain": [
       "<Figure size 432x288 with 1 Axes>"
      ]
     },
     "metadata": {
      "needs_background": "light"
     },
     "output_type": "display_data"
    }
   ],
   "source": [
    "import matplotlib.pyplot as plt\n",
    "\n",
    "loss = history_R.history['loss']\n",
    "val_loss = history_R.history['val_loss']\n",
    "epochs = range(1, len(loss) + 1)\n",
    "plt.plot(epochs, loss, 'y', label='Training loss')\n",
    "plt.plot(epochs, val_loss, 'r', label='Validation loss')\n",
    "plt.title('Training and validation loss')\n",
    "plt.xlabel('Epochs')\n",
    "plt.ylabel('Loss')\n",
    "plt.legend()\n",
    "plt.show()\n",
    "\n",
    "\n",
    "acc = history_R.history['acc']\n",
    "val_acc = history_R.history['val_acc']\n",
    "plt.plot(epochs, acc, 'y', label='Training acc')\n",
    "plt.plot(epochs, val_acc, 'r', label='Validation acc')\n",
    "plt.title('Training and validation accuracy')\n",
    "plt.xlabel('Epochs')\n",
    "plt.ylabel('Accuracy')\n",
    "plt.legend()\n",
    "plt.show()"
   ]
  },
  {
   "cell_type": "markdown",
   "id": "8270141f",
   "metadata": {
    "papermill": {
     "duration": 0.016885,
     "end_time": "2023-02-26T15:31:04.885513",
     "exception": false,
     "start_time": "2023-02-26T15:31:04.868628",
     "status": "completed"
    },
    "tags": []
   },
   "source": [
    "## Submission"
   ]
  },
  {
   "cell_type": "code",
   "execution_count": 14,
   "id": "758d5d44",
   "metadata": {
    "execution": {
     "iopub.execute_input": "2023-02-26T15:31:04.921004Z",
     "iopub.status.busy": "2023-02-26T15:31:04.920406Z",
     "iopub.status.idle": "2023-02-26T15:31:04.943647Z",
     "shell.execute_reply": "2023-02-26T15:31:04.942643Z"
    },
    "papermill": {
     "duration": 0.043928,
     "end_time": "2023-02-26T15:31:04.946042",
     "exception": false,
     "start_time": "2023-02-26T15:31:04.902114",
     "status": "completed"
    },
    "tags": []
   },
   "outputs": [
    {
     "data": {
      "text/html": [
       "<div>\n",
       "<style scoped>\n",
       "    .dataframe tbody tr th:only-of-type {\n",
       "        vertical-align: middle;\n",
       "    }\n",
       "\n",
       "    .dataframe tbody tr th {\n",
       "        vertical-align: top;\n",
       "    }\n",
       "\n",
       "    .dataframe thead th {\n",
       "        text-align: right;\n",
       "    }\n",
       "</style>\n",
       "<table border=\"1\" class=\"dataframe\">\n",
       "  <thead>\n",
       "    <tr style=\"text-align: right;\">\n",
       "      <th></th>\n",
       "      <th>site_id</th>\n",
       "      <th>patient_id</th>\n",
       "      <th>image_id</th>\n",
       "      <th>laterality</th>\n",
       "      <th>view</th>\n",
       "      <th>age</th>\n",
       "      <th>implant</th>\n",
       "      <th>machine_id</th>\n",
       "      <th>prediction_id</th>\n",
       "    </tr>\n",
       "  </thead>\n",
       "  <tbody>\n",
       "    <tr>\n",
       "      <th>0</th>\n",
       "      <td>2</td>\n",
       "      <td>10008</td>\n",
       "      <td>736471439</td>\n",
       "      <td>L</td>\n",
       "      <td>MLO</td>\n",
       "      <td>81</td>\n",
       "      <td>0</td>\n",
       "      <td>21</td>\n",
       "      <td>10008_L</td>\n",
       "    </tr>\n",
       "    <tr>\n",
       "      <th>1</th>\n",
       "      <td>2</td>\n",
       "      <td>10008</td>\n",
       "      <td>1591370361</td>\n",
       "      <td>L</td>\n",
       "      <td>CC</td>\n",
       "      <td>81</td>\n",
       "      <td>0</td>\n",
       "      <td>21</td>\n",
       "      <td>10008_L</td>\n",
       "    </tr>\n",
       "    <tr>\n",
       "      <th>2</th>\n",
       "      <td>2</td>\n",
       "      <td>10008</td>\n",
       "      <td>68070693</td>\n",
       "      <td>R</td>\n",
       "      <td>MLO</td>\n",
       "      <td>81</td>\n",
       "      <td>0</td>\n",
       "      <td>21</td>\n",
       "      <td>10008_R</td>\n",
       "    </tr>\n",
       "    <tr>\n",
       "      <th>3</th>\n",
       "      <td>2</td>\n",
       "      <td>10008</td>\n",
       "      <td>361203119</td>\n",
       "      <td>R</td>\n",
       "      <td>CC</td>\n",
       "      <td>81</td>\n",
       "      <td>0</td>\n",
       "      <td>21</td>\n",
       "      <td>10008_R</td>\n",
       "    </tr>\n",
       "  </tbody>\n",
       "</table>\n",
       "</div>"
      ],
      "text/plain": [
       "   site_id  patient_id    image_id laterality view  age  implant  machine_id  \\\n",
       "0        2       10008   736471439          L  MLO   81        0          21   \n",
       "1        2       10008  1591370361          L   CC   81        0          21   \n",
       "2        2       10008    68070693          R  MLO   81        0          21   \n",
       "3        2       10008   361203119          R   CC   81        0          21   \n",
       "\n",
       "  prediction_id  \n",
       "0       10008_L  \n",
       "1       10008_L  \n",
       "2       10008_R  \n",
       "3       10008_R  "
      ]
     },
     "execution_count": 14,
     "metadata": {},
     "output_type": "execute_result"
    }
   ],
   "source": [
    "import pandas as pd\n",
    "test_df = pd.read_csv('/kaggle/input/rsna-breast-cancer-detection/test.csv')\n",
    "test_df.head()"
   ]
  },
  {
   "cell_type": "code",
   "execution_count": 15,
   "id": "1b4224b0",
   "metadata": {
    "execution": {
     "iopub.execute_input": "2023-02-26T15:31:04.982310Z",
     "iopub.status.busy": "2023-02-26T15:31:04.982040Z",
     "iopub.status.idle": "2023-02-26T15:31:05.004018Z",
     "shell.execute_reply": "2023-02-26T15:31:05.003093Z"
    },
    "papermill": {
     "duration": 0.042968,
     "end_time": "2023-02-26T15:31:05.006229",
     "exception": false,
     "start_time": "2023-02-26T15:31:04.963261",
     "status": "completed"
    },
    "tags": []
   },
   "outputs": [
    {
     "name": "stderr",
     "output_type": "stream",
     "text": [
      "/opt/conda/lib/python3.7/site-packages/ipykernel_launcher.py:9: SettingWithCopyWarning: \n",
      "A value is trying to be set on a copy of a slice from a DataFrame\n",
      "\n",
      "See the caveats in the documentation: https://pandas.pydata.org/pandas-docs/stable/user_guide/indexing.html#returning-a-view-versus-a-copy\n",
      "  if __name__ == \"__main__\":\n"
     ]
    },
    {
     "data": {
      "text/html": [
       "<div>\n",
       "<style scoped>\n",
       "    .dataframe tbody tr th:only-of-type {\n",
       "        vertical-align: middle;\n",
       "    }\n",
       "\n",
       "    .dataframe tbody tr th {\n",
       "        vertical-align: top;\n",
       "    }\n",
       "\n",
       "    .dataframe thead th {\n",
       "        text-align: right;\n",
       "    }\n",
       "</style>\n",
       "<table border=\"1\" class=\"dataframe\">\n",
       "  <thead>\n",
       "    <tr style=\"text-align: right;\">\n",
       "      <th></th>\n",
       "      <th>patient_id</th>\n",
       "      <th>image_id</th>\n",
       "      <th>laterality</th>\n",
       "      <th>patient_id_str</th>\n",
       "      <th>image_id_str</th>\n",
       "      <th>image_name</th>\n",
       "    </tr>\n",
       "  </thead>\n",
       "  <tbody>\n",
       "    <tr>\n",
       "      <th>0</th>\n",
       "      <td>10008</td>\n",
       "      <td>736471439</td>\n",
       "      <td>L</td>\n",
       "      <td>10008</td>\n",
       "      <td>736471439</td>\n",
       "      <td>10008_736471439.png</td>\n",
       "    </tr>\n",
       "    <tr>\n",
       "      <th>1</th>\n",
       "      <td>10008</td>\n",
       "      <td>1591370361</td>\n",
       "      <td>L</td>\n",
       "      <td>10008</td>\n",
       "      <td>1591370361</td>\n",
       "      <td>10008_1591370361.png</td>\n",
       "    </tr>\n",
       "    <tr>\n",
       "      <th>2</th>\n",
       "      <td>10008</td>\n",
       "      <td>68070693</td>\n",
       "      <td>R</td>\n",
       "      <td>10008</td>\n",
       "      <td>68070693</td>\n",
       "      <td>10008_68070693.png</td>\n",
       "    </tr>\n",
       "    <tr>\n",
       "      <th>3</th>\n",
       "      <td>10008</td>\n",
       "      <td>361203119</td>\n",
       "      <td>R</td>\n",
       "      <td>10008</td>\n",
       "      <td>361203119</td>\n",
       "      <td>10008_361203119.png</td>\n",
       "    </tr>\n",
       "  </tbody>\n",
       "</table>\n",
       "</div>"
      ],
      "text/plain": [
       "   patient_id    image_id laterality patient_id_str image_id_str  \\\n",
       "0       10008   736471439          L          10008    736471439   \n",
       "1       10008  1591370361          L          10008   1591370361   \n",
       "2       10008    68070693          R          10008     68070693   \n",
       "3       10008   361203119          R          10008    361203119   \n",
       "\n",
       "             image_name  \n",
       "0   10008_736471439.png  \n",
       "1  10008_1591370361.png  \n",
       "2    10008_68070693.png  \n",
       "3   10008_361203119.png  "
      ]
     },
     "execution_count": 15,
     "metadata": {},
     "output_type": "execute_result"
    }
   ],
   "source": [
    "test_df['patient_id_str'] = test_df['patient_id'].astype(str)\n",
    "test_df['image_id_str'] = test_df['image_id'].astype(str)\n",
    "\n",
    "\n",
    "test_df = test_df[['patient_id', 'image_id', 'laterality', 'patient_id_str', 'image_id_str']]\n",
    "test_df['image_name'] = ''\n",
    "\n",
    "for i in range(len(test_df)):\n",
    "    test_df['image_name'][i] = test_df['patient_id_str'][i] + '_'+ test_df['image_id_str'][i] + '.png'\n",
    "\n",
    "test_df.head()"
   ]
  },
  {
   "cell_type": "code",
   "execution_count": 16,
   "id": "8bb6a102",
   "metadata": {
    "execution": {
     "iopub.execute_input": "2023-02-26T15:31:05.042798Z",
     "iopub.status.busy": "2023-02-26T15:31:05.042023Z",
     "iopub.status.idle": "2023-02-26T15:31:05.266499Z",
     "shell.execute_reply": "2023-02-26T15:31:05.264806Z"
    },
    "papermill": {
     "duration": 0.245509,
     "end_time": "2023-02-26T15:31:05.268566",
     "exception": false,
     "start_time": "2023-02-26T15:31:05.023057",
     "status": "completed"
    },
    "tags": []
   },
   "outputs": [
    {
     "name": "stderr",
     "output_type": "stream",
     "text": [
      "/opt/conda/lib/python3.7/site-packages/ipykernel_launcher.py:6: SettingWithCopyWarning: \n",
      "A value is trying to be set on a copy of a slice from a DataFrame\n",
      "\n",
      "See the caveats in the documentation: https://pandas.pydata.org/pandas-docs/stable/user_guide/indexing.html#returning-a-view-versus-a-copy\n",
      "  \n"
     ]
    },
    {
     "name": "stdout",
     "output_type": "stream",
     "text": [
      "   patient_id    image_id laterality patient_id_str image_id_str  \\\n",
      "0       10008   736471439          L          10008    736471439   \n",
      "1       10008  1591370361          L          10008   1591370361   \n",
      "\n",
      "             image_name                                          image_arr  \n",
      "0   10008_736471439.png  [[83, 106, 120, 113, 125, 130, 126, 146, 145, ...  \n",
      "1  10008_1591370361.png  [[62, 64, 56, 60, 54, 54, 50, 50, 51, 49, 47, ...  \n",
      "   patient_id   image_id laterality patient_id_str image_id_str  \\\n",
      "2       10008   68070693          R          10008     68070693   \n",
      "3       10008  361203119          R          10008    361203119   \n",
      "\n",
      "            image_name                                          image_arr  \n",
      "2   10008_68070693.png  [[0, 0, 0, 0, 0, 0, 0, 0, 0, 0, 0, 0, 0, 0, 0,...  \n",
      "3  10008_361203119.png  [[0, 0, 0, 0, 0, 0, 0, 0, 0, 0, 0, 0, 0, 0, 0,...  \n"
     ]
    }
   ],
   "source": [
    "from PIL import Image\n",
    "\n",
    "test_df['image_arr'] = ''\n",
    "\n",
    "for i in range(len(test_df)):\n",
    "    test_df['image_arr'][i] = np.array(Image.open('/kaggle/input/rsna-breast-cancer-test-png-images/my_test_data/' + test_df['image_name'][i]))\n",
    "    \n",
    "test_df_L = test_df[(test_df['laterality'] == 'L')]\n",
    "test_df_R = test_df[(test_df['laterality'] == 'R')]\n",
    "\n",
    "print(test_df_L.head())\n",
    "print(test_df_R.head())"
   ]
  },
  {
   "cell_type": "code",
   "execution_count": 17,
   "id": "d5d75e98",
   "metadata": {
    "execution": {
     "iopub.execute_input": "2023-02-26T15:31:05.304592Z",
     "iopub.status.busy": "2023-02-26T15:31:05.304259Z",
     "iopub.status.idle": "2023-02-26T15:31:05.318226Z",
     "shell.execute_reply": "2023-02-26T15:31:05.317388Z"
    },
    "papermill": {
     "duration": 0.03381,
     "end_time": "2023-02-26T15:31:05.320188",
     "exception": false,
     "start_time": "2023-02-26T15:31:05.286378",
     "status": "completed"
    },
    "tags": []
   },
   "outputs": [],
   "source": [
    "from tensorflow.keras.utils import to_categorical\n",
    "\n",
    "XL = np.asarray(test_df_L['image_arr'].tolist())\n",
    "XL = XL/255.0\n",
    "\n",
    "XR = np.asarray(test_df_R['image_arr'].tolist())\n",
    "XR = XR/255.0\n",
    "\n",
    "xr = []\n",
    "xr.append(XR[0][:, :, np.newaxis])\n",
    "xr.append(XR[1][:, :, np.newaxis])\n",
    "xr = np.array(xr)\n",
    "\n",
    "xl = []\n",
    "xl.append(XL[0][:, :, np.newaxis])\n",
    "xl.append(XL[1][:, :, np.newaxis])\n",
    "xl = np.array(xl)\n"
   ]
  },
  {
   "cell_type": "code",
   "execution_count": 18,
   "id": "161b98d8",
   "metadata": {
    "execution": {
     "iopub.execute_input": "2023-02-26T15:31:05.357127Z",
     "iopub.status.busy": "2023-02-26T15:31:05.356362Z",
     "iopub.status.idle": "2023-02-26T15:31:06.050691Z",
     "shell.execute_reply": "2023-02-26T15:31:06.049659Z"
    },
    "papermill": {
     "duration": 0.714713,
     "end_time": "2023-02-26T15:31:06.052920",
     "exception": false,
     "start_time": "2023-02-26T15:31:05.338207",
     "status": "completed"
    },
    "tags": []
   },
   "outputs": [
    {
     "data": {
      "text/html": [
       "<div>\n",
       "<style scoped>\n",
       "    .dataframe tbody tr th:only-of-type {\n",
       "        vertical-align: middle;\n",
       "    }\n",
       "\n",
       "    .dataframe tbody tr th {\n",
       "        vertical-align: top;\n",
       "    }\n",
       "\n",
       "    .dataframe thead th {\n",
       "        text-align: right;\n",
       "    }\n",
       "</style>\n",
       "<table border=\"1\" class=\"dataframe\">\n",
       "  <thead>\n",
       "    <tr style=\"text-align: right;\">\n",
       "      <th></th>\n",
       "      <th>prediction_id</th>\n",
       "      <th>cancer</th>\n",
       "    </tr>\n",
       "  </thead>\n",
       "  <tbody>\n",
       "    <tr>\n",
       "      <th>0</th>\n",
       "      <td>10008-L</td>\n",
       "      <td>0.509518</td>\n",
       "    </tr>\n",
       "    <tr>\n",
       "      <th>1</th>\n",
       "      <td>10008-R</td>\n",
       "      <td>0.682573</td>\n",
       "    </tr>\n",
       "  </tbody>\n",
       "</table>\n",
       "</div>"
      ],
      "text/plain": [
       "  prediction_id    cancer\n",
       "0       10008-L  0.509518\n",
       "1       10008-R  0.682573"
      ]
     },
     "execution_count": 18,
     "metadata": {},
     "output_type": "execute_result"
    }
   ],
   "source": [
    "pred_df = pd.DataFrame(columns=['prediction_id','cancer'])\n",
    "pred_df.loc[0] = ['10008-L', (model.predict(xl)[0][0] + model.predict(xl)[1][0])/2]\n",
    "pred_df.loc[1] = ['10008-R', (model1.predict(xr)[0][0] + model1.predict(xr)[1][0])/2]\n",
    "pred_df"
   ]
  },
  {
   "cell_type": "code",
   "execution_count": 19,
   "id": "1c0ed4f2",
   "metadata": {
    "execution": {
     "iopub.execute_input": "2023-02-26T15:31:06.091961Z",
     "iopub.status.busy": "2023-02-26T15:31:06.091129Z",
     "iopub.status.idle": "2023-02-26T15:31:06.100102Z",
     "shell.execute_reply": "2023-02-26T15:31:06.099254Z"
    },
    "papermill": {
     "duration": 0.030317,
     "end_time": "2023-02-26T15:31:06.102375",
     "exception": false,
     "start_time": "2023-02-26T15:31:06.072058",
     "status": "completed"
    },
    "tags": []
   },
   "outputs": [],
   "source": [
    "pred_df.to_csv('submission.csv')"
   ]
  }
 ],
 "metadata": {
  "kernelspec": {
   "display_name": "Python 3",
   "language": "python",
   "name": "python3"
  },
  "language_info": {
   "codemirror_mode": {
    "name": "ipython",
    "version": 3
   },
   "file_extension": ".py",
   "mimetype": "text/x-python",
   "name": "python",
   "nbconvert_exporter": "python",
   "pygments_lexer": "ipython3",
   "version": "3.7.12"
  },
  "papermill": {
   "default_parameters": {},
   "duration": 1173.819801,
   "end_time": "2023-02-26T15:31:09.983109",
   "environment_variables": {},
   "exception": null,
   "input_path": "__notebook__.ipynb",
   "output_path": "__notebook__.ipynb",
   "parameters": {},
   "start_time": "2023-02-26T15:11:36.163308",
   "version": "2.3.4"
  }
 },
 "nbformat": 4,
 "nbformat_minor": 5
}
